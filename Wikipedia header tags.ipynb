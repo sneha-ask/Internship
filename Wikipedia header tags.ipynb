{
 "cells": [
  {
   "cell_type": "code",
   "execution_count": 1,
   "id": "e757f6ab",
   "metadata": {},
   "outputs": [
    {
     "data": {
      "text/plain": [
       "<Response [200]>"
      ]
     },
     "execution_count": 1,
     "metadata": {},
     "output_type": "execute_result"
    }
   ],
   "source": [
    "#importing required libraries\n",
    "from bs4 import BeautifulSoup\n",
    "import requests\n",
    "\n",
    "#source code is stored in page\n",
    "page1=requests.get(\"https://en.wikipedia.org/wiki/Main_Page\")\n",
    "page1"
   ]
  },
  {
   "cell_type": "code",
   "execution_count": 2,
   "id": "921ff970",
   "metadata": {},
   "outputs": [
    {
     "name": "stdout",
     "output_type": "stream",
     "text": [
      "h1 -> Main Page\n",
      "h1 -> Welcome to Wikipedia\n",
      "h2 -> From today's featured article\n",
      "h2 -> Did you know ...\n",
      "h2 -> In the news\n",
      "h2 -> On this day\n",
      "h2 -> Today's featured picture\n",
      "h2 -> Other areas of Wikipedia\n",
      "h2 -> Wikipedia's sister projects\n",
      "h2 -> Wikipedia languages\n",
      "h2 -> Navigation menu\n",
      "h3 -> Personal tools\n",
      "h3 -> Namespaces\n",
      "h3 -> Views\n",
      "h3 -> Search\n",
      "h3 -> Navigation\n",
      "h3 -> Contribute\n",
      "h3 -> Tools\n",
      "h3 -> Print/export\n",
      "h3 -> In other projects\n",
      "h3 -> Languages\n"
     ]
    }
   ],
   "source": [
    "#creating soup and header names\n",
    "soup1=BeautifulSoup(page1.content)\n",
    "\n",
    "heading_tags = [\"h1\", \"h2\", \"h3\"]\n",
    "for tags in soup1.find_all(heading_tags):\n",
    "    print(tags.name + ' -> ' + tags.text.strip())"
   ]
  },
  {
   "cell_type": "code",
   "execution_count": null,
   "id": "56717925",
   "metadata": {},
   "outputs": [],
   "source": []
  }
 ],
 "metadata": {
  "kernelspec": {
   "display_name": "Python 3 (ipykernel)",
   "language": "python",
   "name": "python3"
  },
  "language_info": {
   "codemirror_mode": {
    "name": "ipython",
    "version": 3
   },
   "file_extension": ".py",
   "mimetype": "text/x-python",
   "name": "python",
   "nbconvert_exporter": "python",
   "pygments_lexer": "ipython3",
   "version": "3.9.7"
  }
 },
 "nbformat": 4,
 "nbformat_minor": 5
}
